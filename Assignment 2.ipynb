{
 "cells": [
  {
   "cell_type": "markdown",
   "id": "92778525",
   "metadata": {},
   "source": [
    "# Assignment 2: Linear Models and Validation Metrics (40 marks total)\n",
    "### Due: February 13 at 11:59pm\n",
    "\n",
    "### Name: "
   ]
  },
  {
   "cell_type": "markdown",
   "id": "ce31b39a",
   "metadata": {},
   "source": [
    "### In this assignment, you will need to write code that uses linear models to perform classification and regression tasks. You will also be asked to describe the process by which you came up with the code. More details can be found below. Please cite any websites or AI tools that you used to help you with this assignment."
   ]
  },
  {
   "cell_type": "markdown",
   "id": "f7c6de86",
   "metadata": {},
   "source": [
    "## Part 1: Classification (20 marks)\n",
    "\n",
    "You have been asked to develop code that can help the user determine if the email they have received is spam or not. Following the machine learning workflow described in class, write the relevant code in each of the steps below:"
   ]
  },
  {
   "cell_type": "markdown",
   "id": "cf275ca7",
   "metadata": {},
   "source": [
    "### Step 0: Import Libraries"
   ]
  },
  {
   "cell_type": "code",
   "execution_count": 2,
   "id": "2b67a661",
   "metadata": {},
   "outputs": [],
   "source": [
    "import numpy as np\n",
    "import pandas as pd\n",
    "import matplotlib.pyplot as plt\n",
    "import seaborn as sns\n",
    "import yellowbrick"
   ]
  },
  {
   "cell_type": "markdown",
   "id": "5f9d33a8",
   "metadata": {},
   "source": [
    "### Step 1: Data Input (1 mark)\n",
    "\n",
    "The data used for this task can be downloaded using the yellowbrick library: \n",
    "https://www.scikit-yb.org/en/latest/api/datasets/spam.html\n",
    "\n",
    "Use the yellowbrick function `load_spam()` to load the spam dataset into the feature matrix `X` and target vector `y`.\n",
    "\n",
    "Print the size and type of `X` and `y`."
   ]
  },
  {
   "cell_type": "code",
   "execution_count": 18,
   "id": "33583c67",
   "metadata": {},
   "outputs": [
    {
     "name": "stdout",
     "output_type": "stream",
     "text": [
      "(4600, 57)\n",
      "(4600,)\n",
      "262200\n",
      "<class 'pandas.core.frame.DataFrame'>\n",
      "4600\n",
      "<class 'pandas.core.series.Series'>\n"
     ]
    }
   ],
   "source": [
    "# TO DO: Import spam dataset from yellowbrick library (0.5 marks)\n",
    "from yellowbrick import datasets\n",
    "X, y= datasets.load_spam()\n",
    "print(X.shape)\n",
    "# print(X.describe)\n",
    "\n",
    "\n",
    "print(y.shape)\n",
    "# print(y.describe)\n",
    "\n",
    "\n",
    "# TO DO: Print size and type of X and y (0.5 marks)\n",
    "print(X.size)\n",
    "print(type(X))\n",
    "\n",
    "print(y.size)\n",
    "print(type(y))"
   ]
  },
  {
   "cell_type": "markdown",
   "id": "156db208",
   "metadata": {},
   "source": [
    "### Step 2: Data Processing (2 marks)\n",
    "\n",
    "Check to see if there are any missing values in the dataset. If necessary, select an appropriate method to fill-in the missing values."
   ]
  },
  {
   "cell_type": "code",
   "execution_count": 4,
   "id": "4e7204f5",
   "metadata": {},
   "outputs": [
    {
     "name": "stdout",
     "output_type": "stream",
     "text": [
      "There are no missing values in the dataset.\n"
     ]
    }
   ],
   "source": [
    "# TO DO: Check if there are any missing values and fill them in if necessary (1 mark)\n",
    "X_df = pd.DataFrame(X)\n",
    "\n",
    "missing_values = X_df.isnull().sum().sum()\n",
    "\n",
    "if missing_values > 0:\n",
    "    print(\"There are missing values in the dataset.\")\n",
    "    X_df.fillna(X_df.mean(), inplace=True)\n",
    "    print(\"Missing values have been filled in with the mean of each column.\")\n",
    "else:\n",
    "    print(\"There are no missing values in the dataset.\")\n",
    "    \n",
    "X_filled = X_df.to_numpy()"
   ]
  },
  {
   "cell_type": "markdown",
   "id": "a489285a",
   "metadata": {},
   "source": [
    "For this task, we want to test if the linear model would still work if we used less data. Use the `train_test_split` function from sklearn to create a new feature matrix named `X_small` and a new target vector named `y_small` that contain **3%** of the data."
   ]
  },
  {
   "cell_type": "code",
   "execution_count": 19,
   "id": "f9bc4a23",
   "metadata": {},
   "outputs": [],
   "source": [
    "# TO DO: Create X_small and y_small (1 mark)\n",
    "from sklearn.model_selection import train_test_split\n",
    "X_small, X_test_small, y_small, y_test_small = train_test_split(X, y, test_size=0.97, random_state=0)"
   ]
  },
  {
   "cell_type": "markdown",
   "id": "d7780530",
   "metadata": {},
   "source": [
    "### Step 3: Implement Machine Learning Model\n",
    "\n",
    "1. Import `LogisticRegression` from sklearn\n",
    "2. Instantiate model `LogisticRegression(max_iter=2000)`\n",
    "3. Implement the machine learning model with three different datasets: \n",
    "    - `X` and `y`\n",
    "    - Only first two columns of `X` and `y`\n",
    "    - `X_small` and `y_small`\n",
    "    \n",
    "    "
   ]
  },
  {
   "cell_type": "code",
   "execution_count": 9,
   "id": "9155ac27",
   "metadata": {},
   "outputs": [],
   "source": [
    "from sklearn.linear_model import LogisticRegression\n",
    "\n",
    "model_ = LogisticRegression(max_iter=2000)\n",
    "\n",
    "X_large, X_test_large, y_large, y_test_large = train_test_split(X, y, random_state=0)\n",
    "\n",
    "model_1 = LogisticRegression(max_iter=2000)\n",
    "lr_1 = model_1.fit(X_large, y_large)\n",
    "linear_predictions_1= model_1.predict(X_test_large)\n",
    "\n",
    "X.iloc[:, :2]\n",
    "\n",
    "X_two_columns, X_test_two_columns, y_two_columns, y_test_two_columns = train_test_split(X.iloc[:, :2], y, random_state=0)\n",
    "\n",
    "model_2 = LogisticRegression(max_iter=2000)\n",
    "\n",
    "lr_2 = model_2.fit(X_two_columns, y_two_columns)\n",
    "\n",
    "linear_predictions_2 = lr_2.predict(X_test_two_columns)\n",
    "\n",
    "model_3 = LogisticRegression(max_iter=2000)\n",
    "\n",
    "lr_3 = model_3.fit(X_small, y_small)\n",
    "\n",
    "linear_predictions_3 = lr_3.predict(X_test_small)"
   ]
  },
  {
   "cell_type": "markdown",
   "id": "0870b0d2",
   "metadata": {},
   "source": [
    "### Step 4: Validate Model \n",
    "\n",
    "Calculate the training and validation accuracy for the three different tests implemented in Step 3"
   ]
  },
  {
   "cell_type": "code",
   "execution_count": 10,
   "id": "5a46a9e9",
   "metadata": {},
   "outputs": [
    {
     "name": "stdout",
     "output_type": "stream",
     "text": [
      "Mean Absolute Error 0.06347826086956522\n",
      "Root Mean Squared Error 0.25194892512087685\n",
      "lr.coef_:  [[-3.99027207e-01 -1.66259221e-01  1.80214509e-01  8.91037669e-01\n",
      "   5.21120557e-01  8.47230753e-01  2.07389855e+00  5.43664685e-01\n",
      "   6.27075336e-01  5.90975642e-02 -4.56208900e-01 -1.98460230e-01\n",
      "   2.12381454e-01  6.77814050e-02  1.18647298e+00  1.19364455e+00\n",
      "   8.82434406e-01  1.35738156e-01  9.22873249e-02  9.03090465e-01\n",
      "   1.86976645e-01  1.09563683e-01  1.90282898e+00  3.24074673e-01\n",
      "  -1.55578275e+00 -9.29173480e-01 -3.22296490e+00  4.36414953e-01\n",
      "  -1.32345459e+00 -1.44508831e-01 -1.65708398e+00  4.96367756e-02\n",
      "  -8.56592880e-01  1.50716025e-01 -1.55450032e+00  7.84611239e-01\n",
      "  -2.82371247e-02  1.15541179e-01 -7.20963766e-01 -7.74327360e-01\n",
      "  -1.40201448e+00 -1.86164327e+00 -6.24932032e-01 -1.22850741e+00\n",
      "  -7.26707778e-01 -1.54574475e+00 -6.25809559e-01 -1.61538709e+00\n",
      "  -9.79292092e-01 -1.37507177e-02 -6.53039423e-01  2.53233841e-01\n",
      "   3.14981873e+00  1.10079194e+00  2.23270356e-01  4.61578779e-03\n",
      "   5.38254116e-04]]\n",
      "lr.intercept_:  [-1.87664167]\n",
      "Training score: 0.93\n",
      "Validation score: 0.94\n",
      "Mean Absolute Error 0.3869565217391304\n",
      "Root Mean Squared Error 0.6220582944862406\n",
      "lr.coef_:  [[ 0.76818503 -0.05128518]]\n",
      "lr.intercept_:  [-0.51083079]\n",
      "Training score: 0.61\n",
      "Validation score: 0.61\n",
      "Mean Absolute Error 0.09300761990138952\n",
      "Root Mean Squared Error 0.3049715067041338\n",
      "lr.coef_:  [[-4.75700433e-01 -1.74185932e-01 -1.37682796e-01  0.00000000e+00\n",
      "   6.81456034e-01  1.24702139e-01  9.94719058e-01  5.92233806e-01\n",
      "   7.95773108e-01 -5.21749769e-01  3.95461565e-02  9.70762308e-02\n",
      "   1.85239508e-02 -3.83802514e-02  4.39251880e-01  1.01478259e+00\n",
      "   6.96142178e-01  8.37743923e-01  2.91012905e-01  6.09551819e-01\n",
      "  -7.90408108e-02  2.32149622e-01  6.29766132e-01  1.17852084e+00\n",
      "  -1.29313791e+00 -4.09553575e-01 -6.82330828e-01 -2.40357414e-01\n",
      "  -2.09101326e-01 -2.28972484e-01 -2.38664370e-01 -1.32909171e-02\n",
      "  -5.57021374e-01 -1.32909171e-02 -1.82551617e-01  3.09025143e-01\n",
      "  -4.59477850e-01  2.25375375e-01 -4.17281423e-02 -1.34967867e-02\n",
      "  -2.64301781e-01 -6.30471013e-01 -7.19966453e-02 -4.61580300e-01\n",
      "  -3.76465861e-01 -3.55298920e-01 -4.23206469e-02 -5.68840056e-02\n",
      "  -1.38974481e-01 -1.62083479e-01 -1.36480485e-01  1.22117268e+00\n",
      "   6.82011122e-01 -1.80441248e-02  4.97924860e-01 -3.77773727e-03\n",
      "   5.69122467e-04]]\n",
      "lr.intercept_:  [-2.67853459]\n",
      "Training score: 0.96\n",
      "Validation score: 0.91\n"
     ]
    }
   ],
   "source": [
    "from sklearn.metrics import mean_squared_error, mean_absolute_error\n",
    "\n",
    "linear_mae_1 = mean_absolute_error(y_test_large, linear_predictions_1)\n",
    "linear_rmae_1 = np.sqrt(mean_squared_error(y_test_large, linear_predictions_1))\n",
    "\n",
    "print(f\"Mean Absolute Error {linear_mae_1}\")\n",
    "print(f\"Root Mean Squared Error {linear_rmae_1}\")\n",
    "\n",
    "\n",
    "print(\"lr.coef_: \", lr_1.coef_)\n",
    "print(\"lr.intercept_: \", lr_1.intercept_)\n",
    "print(\"Training score: {:.2f}\".format(lr_1.score(X_large, y_large)))\n",
    "print(\"Validation score: {:.2f}\".format(lr_1.score(X_test_large, y_test_large)))\n",
    "\n",
    "linear_mae_2 = mean_absolute_error(y_test_two_columns, linear_predictions_2)\n",
    "linear_rmae_2 = np.sqrt(mean_squared_error(y_test_two_columns, linear_predictions_2))\n",
    "\n",
    "print(f\"Mean Absolute Error {linear_mae_2}\")\n",
    "print(f\"Root Mean Squared Error {linear_rmae_2}\")\n",
    "\n",
    "\n",
    "print(\"lr.coef_: \", lr_2.coef_)\n",
    "print(\"lr.intercept_: \", lr_2.intercept_)\n",
    "print(\"Training score: {:.2f}\".format(lr_2.score(X_two_columns, y_two_columns)))\n",
    "print(\"Validation score: {:.2f}\".format(lr_2.score(X_test_two_columns, y_test_two_columns)))\n",
    "\n",
    "linear_mae_3 = mean_absolute_error(y_test_small, linear_predictions_3)\n",
    "linear_rmae_3 = np.sqrt(mean_squared_error(y_test_small, linear_predictions_3))\n",
    "\n",
    "print(f\"Mean Absolute Error {linear_mae_3}\")\n",
    "print(f\"Root Mean Squared Error {linear_rmae_3}\")\n",
    "\n",
    "\n",
    "print(\"lr.coef_: \", lr_3.coef_)\n",
    "print(\"lr.intercept_: \", lr_3.intercept_)\n",
    "print(\"Training score: {:.2f}\".format(lr_3.score(X_small, y_small)))\n",
    "print(\"Validation score: {:.2f}\".format(lr_3.score(X_test_small, y_test_small)))\n"
   ]
  },
  {
   "cell_type": "markdown",
   "id": "bb0bbd83",
   "metadata": {},
   "source": [
    "### Step 5.1: Visualize Results (4 marks)\n",
    "\n",
    "1. Create a pandas DataFrame `results` with columns: Data size, training accuracy, validation accuracy\n",
    "2. Add the data size, training and validation accuracy for each dataset to the `results` DataFrame\n",
    "3. Print `results`"
   ]
  },
  {
   "cell_type": "code",
   "execution_count": 15,
   "id": "be4b5c0a",
   "metadata": {},
   "outputs": [
    {
     "name": "stdout",
     "output_type": "stream",
     "text": [
      "   Data size  Training Accuracy  Validation Accuracy\n",
      "0       3450           0.928696             0.936522\n",
      "1       3450           0.608406             0.613043\n",
      "2        138           0.963768             0.906992\n"
     ]
    }
   ],
   "source": [
    "# TO DO: ADD YOUR CODE HERE FOR STEPS 3-5\n",
    "# Note: for any random state parameters, you can use random_state = 0\n",
    "# HINT: USING A LOOP TO STORE THE DATA IN YOUR RESULTS DATAFRAME WILL BE MORE EFFICIENT\n",
    "import pandas as pd\n",
    "\n",
    "training_score_1 = lr_1.score(X_large, y_large)\n",
    "validation_score_1 = lr_1.score(X_test_large, y_test_large)\n",
    "results = pd.DataFrame(columns=[\"Data size\", \"Training Accuracy\", \"Validation Accuracy\"])\n",
    "\n",
    "results.loc[len(results)]= {\"Data size\": len(X_large), \"Training Accuracy\": training_score_1, \"Validation Accuracy\": validation_score_1}\n",
    "\n",
    "training_score_2 = lr_2.score(X_two_columns, y_two_columns)\n",
    "validation_score_2 = lr_2.score(X_test_two_columns, y_test_two_columns)\n",
    "results.loc[len(results)] = {\"Data size\": len(X_two_columns), \"Training Accuracy\": training_score_2, \"Validation Accuracy\": validation_score_2}\n",
    "\n",
    "training_score_3 = lr_3.score(X_small, y_small)\n",
    "validation_score_3 = lr_3.score(X_test_small, y_test_small)\n",
    "results.loc[len(results)] = {\"Data size\": len(X_small), \"Training Accuracy\": training_score_3, \"Validation Accuracy\": validation_score_3}\n",
    "\n",
    "print(results)"
   ]
  },
  {
   "cell_type": "markdown",
   "id": "cf13a54f",
   "metadata": {},
   "source": [
    "### Step 5.2: Visualize Classification Errors (3 marks)"
   ]
  },
  {
   "cell_type": "markdown",
   "id": "6022252f",
   "metadata": {},
   "source": [
    "In this section, print the confusion matrix and the classification report to investigate the number of false positives vs. false negatives. Use the full dataset for this analysis"
   ]
  },
  {
   "cell_type": "code",
   "execution_count": 16,
   "id": "81931e5f",
   "metadata": {},
   "outputs": [],
   "source": [
    "# TO DO: Retrieve target vector and predicted values for validation set using full dataset  \n",
    "from sklearn.metrics import confusion_matrix\n",
    "\n",
    "# Create confusion matrices for the RF model\n",
    "cm_rf = confusion_matrix(y_test_large, linear_predictions_1)"
   ]
  },
  {
   "cell_type": "code",
   "execution_count": 17,
   "id": "e4cb30f1",
   "metadata": {},
   "outputs": [
    {
     "data": {
      "image/png": "[encoded data removed]",
      "text/plain": [
       "<Figure size 1000x500 with 2 Axes>"
      ]
     },
     "metadata": {},
     "output_type": "display_data"
    }
   ],
   "source": [
    "# TO DO: Print confusion matrix using a heatmap\n",
    "# HINT: To remove scientific notation from a heatmap, set the parameter fmt='d'\n",
    "# Set up the figure size using subplots\n",
    "fig, axes = plt.subplots(figsize = (10,5))\n",
    "# Create a heatmap for Random Forest\n",
    "sns.heatmap(cm_rf, annot=True, fmt = 'd', cmap='Blues', ax=axes)\n",
    "axes.set_title(\"Confusion Matrix\")\n",
    "axes.set_xlabel(\"Predicted\")\n",
    "axes.set_ylabel(\"Actual\")\n",
    "\n",
    "plt.show()"
   ]
  },
  {
   "cell_type": "code",
   "execution_count": 19,
   "id": "08e17790",
   "metadata": {},
   "outputs": [
    {
     "name": "stdout",
     "output_type": "stream",
     "text": [
      "              precision    recall  f1-score   support\n",
      "\n",
      "           0       0.94      0.95      0.95       692\n",
      "           1       0.92      0.91      0.92       458\n",
      "\n",
      "    accuracy                           0.94      1150\n",
      "   macro avg       0.93      0.93      0.93      1150\n",
      "weighted avg       0.94      0.94      0.94      1150\n",
      "\n"
     ]
    }
   ],
   "source": [
    "# TO DO: Print classification report\n",
    "from sklearn.metrics import classification_report\n",
    "print(classification_report(y_test_large, linear_predictions_1,\n",
    "                           zero_division=0))"
   ]
  },
  {
   "cell_type": "markdown",
   "id": "bf319621",
   "metadata": {},
   "source": [
    "### Questions (6 marks)\n",
    "1. How do the training and validation accuracy change depending on the amount of data used? Explain with values.\n",
    "1. In this case, what do a false positive and a false negative represent? Which one is worse?\n",
    "1. Based on your answer to question 2, would you want to maximize precision or recall? How would you do this?\n",
    "\n",
    "*ANSWER HERE*\n",
    "\n",
    "1. \n",
    "- training set with full dataset\n",
    "The training score is 0.93, and the validation score is 0.94. This means the model performs well on both the training and unseen data, means a good model and generalizes well.\n",
    "- training with first two columns:\n",
    "Both the training and testing scores are recorded at 0.61, indicating a lack of performance variance. This constraint limits the model's ability to capture the full complexity of the data. The model exhibits high bias and low variance, suggestive of underfitting. In simpler terms, it's too basic and fails to grasp the underlying data patterns effectively.\n",
    "- training set with small data size:\n",
    "When utilizing a smaller testing set, the training score elevates to 0.96, suggesting improved fitting to the training data. However, the validation score drops to 0.91 compared to utilizing the full dataset. While the high training score implies better fitting with less validation data, the slight decline in the validation score suggests a potential for overfitting due to insufficient data for validation of predictions.\n",
    "\n",
    "2.\n",
    "False positive means model predicts 1, but actual value is 0. false negative means model predicts 0, but actual is 1. In my opinion false negative is worse. Because if the model fails to predict a spam. the spam content will be actually released. false positive will not let spam be released even the model censors non-spam contents.\n",
    "\n",
    "3. \n",
    "I would like to maximize recall because we want to have more positive results. Recall is the ratio of true positive predictions to true positives and false negatives. To do it, I could adjust the model's threshold to be more lenient in classifying positives, ensuring fewer false negatives.\n"
   ]
  },
  {
   "cell_type": "markdown",
   "id": "664ff8ae",
   "metadata": {},
   "source": [
    "### Process Description (4 marks)\n",
    "Please describe the process you used to create your code. Cite any websites or generative AI tools used. You can use the following questions as guidance:\n",
    "1. Where did you source your code?\n",
    "1. In what order did you complete the steps?\n",
    "1. If you used generative AI, what prompts did you use? Did you need to modify the code at all? Why or why not?\n",
    "1. Did you have any challenges? If yes, what were they? If not, what helped you to be successful?"
   ]
  },
  {
   "cell_type": "markdown",
   "id": "d0e837da",
   "metadata": {},
   "source": [
    "*DESCRIBE YOUR PROCESS HERE - BE SPECIFIC*\n",
    "\n",
    "1. Lab code and lectures.\n",
    "\n",
    "2. Tried to fromualate the solutions on my own but use generative AI for syntax and other questions.\n",
    "\n",
    "3. I used Ai for syntax and other sort of easy access information\n",
    "\n",
    "4. I had challenges classifying recall and precision so I asked AI to generate some study material for me."
   ]
  },
  {
   "cell_type": "markdown",
   "id": "5ee2d2c3",
   "metadata": {},
   "source": [
    "## Part 2: Regression (15 marks)\n",
    "\n",
    "For this section, we will be evaluating concrete compressive strength of different concrete samples, based on age and ingredients. You will need to repeat the steps from Part 1 for this analysis."
   ]
  },
  {
   "cell_type": "markdown",
   "id": "8219f163",
   "metadata": {},
   "source": [
    "### Step 1: Data Input (1 mark)\n",
    "\n",
    "The data used for this task can be downloaded using the yellowbrick library: \n",
    "https://www.scikit-yb.org/en/latest/api/datasets/concrete.html\n",
    "\n",
    "Use the yellowbrick function `load_concrete()` to load the spam dataset into the feature matrix `X` and target vector `y`.\n",
    "\n",
    "Print the size and type of `X` and `y`."
   ]
  },
  {
   "cell_type": "code",
   "execution_count": 22,
   "id": "2af8bd32",
   "metadata": {},
   "outputs": [
    {
     "name": "stdout",
     "output_type": "stream",
     "text": [
      "(1030, 8)\n",
      "<bound method NDFrame.describe of       cement   slag    ash  water  splast  coarse   fine  age\n",
      "0      540.0    0.0    0.0  162.0     2.5  1040.0  676.0   28\n",
      "1      540.0    0.0    0.0  162.0     2.5  1055.0  676.0   28\n",
      "2      332.5  142.5    0.0  228.0     0.0   932.0  594.0  270\n",
      "3      332.5  142.5    0.0  228.0     0.0   932.0  594.0  365\n",
      "4      198.6  132.4    0.0  192.0     0.0   978.4  825.5  360\n",
      "...      ...    ...    ...    ...     ...     ...    ...  ...\n",
      "1025   276.4  116.0   90.3  179.6     8.9   870.1  768.3   28\n",
      "1026   322.2    0.0  115.6  196.0    10.4   817.9  813.4   28\n",
      "1027   148.5  139.4  108.6  192.7     6.1   892.4  780.0   28\n",
      "1028   159.1  186.7    0.0  175.6    11.3   989.6  788.9   28\n",
      "1029   260.9  100.5   78.3  200.6     8.6   864.5  761.5   28\n",
      "\n",
      "[1030 rows x 8 columns]>\n",
      "(1030,)\n",
      "<bound method NDFrame.describe of 0       79.986111\n",
      "1       61.887366\n",
      "2       40.269535\n",
      "3       41.052780\n",
      "4       44.296075\n",
      "          ...    \n",
      "1025    44.284354\n",
      "1026    31.178794\n",
      "1027    23.696601\n",
      "1028    32.768036\n",
      "1029    32.401235\n",
      "Name: strength, Length: 1030, dtype: float64>\n",
      "***************************\n",
      "8240\n",
      "<class 'pandas.core.frame.DataFrame'>\n",
      "1030\n",
      "<class 'pandas.core.series.Series'>\n"
     ]
    }
   ],
   "source": [
    "# TO DO: Import concrete dataset from yellowbrick library (0.5 marks)\n",
    "from yellowbrick import datasets\n",
    "X, y= datasets.load_concrete()\n",
    "# TO DO: Print size and type of X and y (0.5 marks)\n",
    "print(X.shape)\n",
    "print(X.describe)\n",
    "\n",
    "print(y.shape)\n",
    "print(y.describe)\n",
    "# TO DO: Print size and type of X and y (0.5 marks)\n",
    "print(\"***************************\")\n",
    "\n",
    "print(X.size)\n",
    "print(type(X))\n",
    "\n",
    "print(y.size)\n",
    "print(type(y))"
   ]
  },
  {
   "cell_type": "markdown",
   "id": "42fea4cc",
   "metadata": {},
   "source": [
    "### Step 2: Data Processing (1 mark)\n",
    "\n",
    "Check to see if there are any missing values in the dataset. If necessary, select an appropriate method to fill-in the missing values."
   ]
  },
  {
   "cell_type": "code",
   "execution_count": 23,
   "id": "06fc9c0f",
   "metadata": {},
   "outputs": [
    {
     "name": "stdout",
     "output_type": "stream",
     "text": [
      "cement    0\n",
      "slag      0\n",
      "ash       0\n",
      "water     0\n",
      "splast    0\n",
      "coarse    0\n",
      "fine      0\n",
      "age       0\n",
      "dtype: int64\n",
      "0\n"
     ]
    }
   ],
   "source": [
    "# TO DO: Check if there are any missing values and fill them in if necessary\n",
    "print(X.isnull().sum())\n",
    "\n",
    "print(y.isnull().sum())"
   ]
  },
  {
   "cell_type": "markdown",
   "id": "2a245d00",
   "metadata": {},
   "source": [
    "### Step 3: Implement Machine Learning Model (2 marks)\n",
    "\n",
    "1. Import `LinearRegression` from sklearn\n",
    "2. Instantiate model `LinearRegression()`\n",
    "3. Implement the machine learning model with `X` and `y`"
   ]
  },
  {
   "cell_type": "code",
   "execution_count": 24,
   "id": "ba4da0b9",
   "metadata": {},
   "outputs": [],
   "source": [
    "# TO DO: ADD YOUR CODE HERE\n",
    "# Note: for any random state parameters, you can use random_state = 0\n",
    "from sklearn.linear_model import LinearRegression\n",
    "\n",
    "model = LinearRegression()\n",
    "X_train, X_test, y_train, y_test = train_test_split(X, y, train_size=0.8, random_state=0)\n",
    "lr_2 = model.fit(X_train, y_train)\n",
    "linear_predictions_2 = lr_2.predict(X_test)"
   ]
  },
  {
   "cell_type": "markdown",
   "id": "3f994e31",
   "metadata": {},
   "source": [
    "### Step 4: Validate Model (2 marks)\n",
    "\n",
    "Calculate the training and validation accuracy using mean squared error and R2 score."
   ]
  },
  {
   "cell_type": "code",
   "execution_count": 25,
   "id": "fdc93a78",
   "metadata": {},
   "outputs": [
    {
     "name": "stdout",
     "output_type": "stream",
     "text": [
      "Mean Absolute Error 7.865298605808212\n",
      "Root Mean Squared Error 9.779332023553774\n",
      "Training score: 0.61\n",
      "Validation score: 0.64\n"
     ]
    }
   ],
   "source": [
    "# TO DO: ADD YOUR CODE HERE\n",
    "\n",
    "linear_mae_2 = mean_absolute_error(y_test, linear_predictions_2)\n",
    "linear_rmae_2 = np.sqrt(mean_squared_error(y_test, linear_predictions_2))\n",
    "\n",
    "print(f\"Mean Absolute Error {linear_mae_2}\")\n",
    "print(f\"Root Mean Squared Error {linear_rmae_2}\")\n",
    "\n",
    "print(\"Training score: {:.2f}\".format(lr_2.score(X_train, y_train)))\n",
    "print(\"Validation score: {:.2f}\".format(lr_2.score(X_test, y_test)))"
   ]
  },
  {
   "cell_type": "markdown",
   "id": "5fc3f7a8",
   "metadata": {},
   "source": [
    "### Step 5: Visualize Results (1 mark)\n",
    "\n",
    "1. Create a pandas DataFrame `results` with columns: Training accuracy and Validation accuracy, and index: MSE and R2 score\n",
    "2. Add the accuracy results to the `results` DataFrame\n",
    "3. Print `results`"
   ]
  },
  {
   "cell_type": "code",
   "execution_count": 26,
   "id": "59ae0f09",
   "metadata": {},
   "outputs": [
    {
     "name": "stdout",
     "output_type": "stream",
     "text": [
      "   Training accuracy  Validation accuracy       MSE        R2\n",
      "0           0.609071             0.636898  7.865299  9.779332\n"
     ]
    }
   ],
   "source": [
    "# TO DO: ADD YOUR CODE HERE\n",
    "data = {\n",
    "    'Training accuracy': [lr_2.score(X_train, y_train)],\n",
    "    'Validation accuracy': [lr_2.score(X_test, y_test)],\n",
    "    'MSE': [linear_mae_2],\n",
    "    'R2': [linear_rmae_2]\n",
    "}\n",
    "\n",
    "results = pd.DataFrame(data)\n",
    "\n",
    "print(results)"
   ]
  },
  {
   "cell_type": "markdown",
   "id": "a5257a98",
   "metadata": {},
   "source": [
    "### Questions (4 marks)\n",
    "1. Did using a linear model produce good results for this dataset? Why or why not?\n",
    "1. Could we tell if this model was a good fit by using just the mean squared error? Why or why not?\n",
    "\n",
    "*ANSWER HERE*\n",
    "\n",
    "1. Results are off by a substantial amount as demosntarted by the MSE and R squared value. This is probably due to noise in the dataset\n",
    "2. We cannot, MSE does not indicate how much of the variance in the target variable the model accounts for. MSE is highly sensitive to outliers because it squares the errors. "
   ]
  },
  {
   "cell_type": "markdown",
   "id": "37b238f4",
   "metadata": {},
   "source": [
    "### Process Description (4 marks)\n",
    "Please describe the process you used to create your code. Cite any websites or generative AI tools used. You can use the following questions as guidance:\n",
    "1. Where did you source your code?\n",
    "1. In what order did you complete the steps?\n",
    "1. If you used generative AI, what prompts did you use? Did you need to modify the code at all? Why or why not?\n",
    "1. Did you have any challenges? If yes, what were they? If not, what helped you to be successful?"
   ]
  },
  {
   "cell_type": "markdown",
   "id": "93097bfe",
   "metadata": {},
   "source": [
    "1. Using the answers based on part 1, which was sourced from the labs and lectures.\n",
    "2. I tried to come up with hollistic solutions on my own, and for the most part I did, however where some sort of suplementary information was needed I resorted to google or gen AI. One such example was regarding the evalutaion of the various models and how the size of the sample had an impact on the metrics.\n",
    "3. I directed targeted questions to the AI (how do you check for a null etc). And, I utilized the AI's capabilities to deepen my comprehension of various concepts. Since I didn't input any code, I refrained from making modifications to it. This time, my approach involved independent problem-solving.\n",
    "4. I had challenges with linear regression model, I wasnt sure how the MSE and R squared value correlated with my findings however a little bit of research clarified it."
   ]
  },
  {
   "cell_type": "markdown",
   "id": "4cd7358d",
   "metadata": {},
   "source": [
    "## Part 3: Observations/Interpretation (3 marks)\n",
    "\n",
    "Describe any pattern you see in the results. Relate your findings to what we discussed during lectures. Include data to justify your findings.\n",
    "\n",
    "\n",
    "*ADD YOUR FINDINGS HERE*\n",
    "\n",
    "- low training score & low validation score (0.61 & 0.62) means underfitting and low variance. Need more data and more variance. \n",
    "\n",
    "- validation score goes down probably indicates a potential of overfitting and need more test data to validate score.\n",
    "\n",
    "- maximizing precision means reducing false negative\n",
    "\n",
    "- maximizing recall means reducing false positive\n",
    "\n",
    "- To get higher precision rate, one strategy is to train model to treat positive data leniently, to make more data positive.\n",
    "\n",
    "- sometimes noises & outliers in the dataset could significantly impact MSE. Cannot evaluate a model only based on MSE. A model could have a high MSE if it fails to predict outliers accurately, even if it performs well for the majority of the data."
   ]
  },
  {
   "cell_type": "markdown",
   "id": "cd97b6ac",
   "metadata": {},
   "source": [
    "## Part 4: Reflection (2 marks)\n",
    "Include a sentence or two about:\n",
    "- what you liked or disliked,\n",
    "- found interesting, confusing, challangeing, motivating\n",
    "while working on this assignment.\n",
    "\n",
    "\n",
    "*ADD YOUR THOUGHTS HERE*\n",
    "\n",
    "\n",
    "In completing the machine learning assignment, I encountered various challenges that pushed me to explore new methodologies and problem-solving strategies. I found the process of exploring ML concepts and breaking them down into understandable explanations particularly motivating and interesting Despite the difficulties, the experience enhanced my understanding of the subject matter and honed my analytical skills."
   ]
  },
  {
   "cell_type": "code",
   "execution_count": null,
   "id": "867c484f",
   "metadata": {},
   "outputs": [],
   "source": []
  }
 ],
 "metadata": {
  "kernelspec": {
   "display_name": "Python 3 (ipykernel)",
   "language": "python",
   "name": "python3"
  },
  "language_info": {
   "codemirror_mode": {
    "name": "ipython",
    "version": 3
   },
   "file_extension": ".py",
   "mimetype": "text/x-python",
   "name": "python",
   "nbconvert_exporter": "python",
   "pygments_lexer": "ipython3",
   "version": "3.11.5"
  }
 },
 "nbformat": 4,
 "nbformat_minor": 5
}
